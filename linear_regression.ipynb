{
 "cells": [
  {
   "cell_type": "markdown",
   "metadata": {},
   "source": [
    "# Table of Contents\n",
    "* [Linear Regression](#Linear-Regression)\n",
    "\t* [Why Model Data?](#Why-Model-Data?)\n",
    "\t* [Why Linear Regression?](#Why-Linear-Regression?)\n",
    "* [Confounding Linear Regression and Least Squares](#Confounding-Linear-Regression-and-Least-Squares)\n",
    "\t* [What is Linear Regression?](#What-is-Linear-Regression?)\n",
    "\t* [What is Least Squares?](#What-is-Least-Squares?)\n",
    "* [Confounding Linear Combinations and Linear Functions](#Confounding-Linear-Combinations-and-Linear-Functions)\n",
    "\t* [Linear Combinations](#Linear-Combinations)\n",
    "\t* [Linear Functions](#Linear-Functions)\n",
    "* [Explore the Data](#Explore-the-Data)\n",
    "\t* [Are $x$ and $y$ Related?](#Are-$x$-and-$y$-Related?)\n",
    "\t* [Variance](#Variance)\n",
    "\t* [Covariance](#Covariance)\n",
    "\t* [Correlation with `numpy`](#Correlation-with-numpy)\n",
    "\t* [Correlation with `pandas`](#Correlation-with-pandas)\n",
    "\t* [Correlation with Scipy](#Correlation-with-Scipy)\n",
    "* [Model the Data](#Model-the-Data)\n",
    "\t* [Goodness of Fit](#Goodness-of-Fit)\n",
    "\t* [Error or \"Loss\" Functions](#Error-or-\"Loss\"-Functions)\n",
    "\t* [Residuals](#Residuals)\n",
    "\t* [Standard Error](#Standard-Error)\n",
    "\t* [Manually Minimize Errors](#Manually-Minimize-Errors)\n",
    "* [Least Squares: Think Optimization of $a_n$](#Least-Squares:-Think-Optimization-of-$a_n$)\n",
    "\t* [Minimization of the Residual Sum of the Squares](#Minimization-of-the-Residual-Sum-of-the-Squares)\n",
    "\t* [Analytic Solution](#Analytic-Solution)\n",
    "\t* [Total = Explained + Residual](#Total-=-Explained-+-Residual)\n",
    "\t* [R-Squared](#R-Squared)\n",
    "* [Linear Regression: Think Statistical Inference of $y_n$](#Linear-Regression:-Think-Statistical-Inference-of-$y_n$)\n",
    "\t* [Simulating Many Measurements](#Simulating-Many-Measurements)\n",
    "\t* [Regression to the Mean](#Regression-to-the-Mean)\n",
    "\t* [Estimation](#Estimation)\n",
    "\t* [Linear Regression seems more complex. Why bother?](#Linear-Regression-seems-more-complex.-Why-bother?)\n",
    "\t* [Computational Solutions](#Computational-Solutions)\n",
    "* [Top Ten Methods for Linear Regression](#Top-Ten-Methods-for-Linear-Regression)\n",
    "\t* [Linear Regression with analytic solution](#Linear-Regression-with-analytic-solution)\n",
    "\t* [Linear Regression with `numpy.polyfit`](#Linear-Regression-with-numpy.polyfit)\n",
    "\t* [Linear Regression with `numpy.linalg`](#Linear-Regression-with-numpy.linalg)\n",
    "\t* [Linear Regression with `scipy.stats`](#Linear-Regression-with-scipy.stats)\n",
    "\t* [Linear Regression with `scipy.optimize`](#Linear-Regression-with-scipy.optimize)\n",
    "\t* [Linear Regression with `statsmodels`](#Linear-Regression-with-statsmodels)\n",
    "\t* [Linear Regression with `statsmodels.formula` and `pandas`](#Linear-Regression-with-statsmodels.formula-and-pandas)\n",
    "\t* [Linear Regression with `scikit-learn`](#Linear-Regression-with-scikit-learn)\n",
    "\t* [Linear Regression with Tensor Flow, gradient descent](#Linear-Regression-with-Tensor-Flow,-gradient-descent)\n",
    "\t* [Linear Regression with TensorFlow, machine learning](#Linear-Regression-with-TensorFlow,-machine-learning)\n",
    "* [Conclusion](#Conclusion)\n"
   ]
  },
  {
   "cell_type": "markdown",
   "metadata": {},
   "source": [
    "# Linear Regression"
   ]
  },
  {
   "cell_type": "markdown",
   "metadata": {},
   "source": [
    "## Why Model Data?"
   ]
  },
  {
   "cell_type": "markdown",
   "metadata": {},
   "source": [
    "Why build a model?\n",
    "* **interpolation**: (find values in between points, resample your data)\n",
    "* **extrapolation**: (prediction/forecast/backcast: find values outside range of points)\n",
    "* **compression**: (store model parameters instead of large data table)\n",
    "* **understanding**: (finding trends can reveal something deeper about the process that generates the data)"
   ]
  },
  {
   "cell_type": "markdown",
   "metadata": {},
   "source": [
    "## Why Linear Regression?"
   ]
  },
  {
   "cell_type": "markdown",
   "metadata": {},
   "source": [
    "Why learn and use linear regression?\n",
    "* useful procedure for fitting and two variables that appear correlated\n",
    "* used frequently to fit data that appears to have a linear trend\n",
    "* a good example that provides a foundation for understanding 2 subjects at the same time: \n",
    "    1. statistical modeling and \n",
    "    2. optimization problems.\n",
    "    3. prelude to other regression modeling (regularized and multivariant)\n",
    "    4. prelude to other statistical modeling and machine learning"
   ]
  },
  {
   "cell_type": "markdown",
   "metadata": {},
   "source": [
    "# Confounding Linear Regression and Least Squares"
   ]
  },
  {
   "cell_type": "markdown",
   "metadata": {},
   "source": [
    "These two terms are often confounded, treated as if they are both alternate terms for simply \"fitting a line to some data\". We need to directly address common confusion over these names and what they label."
   ]
  },
  {
   "cell_type": "markdown",
   "metadata": {},
   "source": [
    "* In the physical sciences, fitting a linear line to data that appears to have a linear trend is usually called \"least squares\". \n",
    "* In social sciences and statistics, what appeasr to be the same procedure is usually called 'linear regression\". \n",
    "* Ultimately, the two phrases do NOT mean precisely the same thing. \n",
    "* Although they are often used interchangeably, they are two different things that happen to be tightly coupled as they are very very often used together. \n",
    "\n",
    "Herein we'll touch a little on how they are connected and also try to \"deconfound\" or \"disambiguate\" the two."
   ]
  },
  {
   "cell_type": "markdown",
   "metadata": {},
   "source": [
    "To do this, it is extremely helpful to start with a discussion of the mechanics of how to do modeling with least-squares, including how some of the math works. \n",
    "* Doing so is useful because it is the simplest example of a linear modeling technique that has an analytic solution.\n",
    "* That solution provides a nice framework to build up some of the concepts that are helpful for the more complex models where an analytic solution is not possible. \n",
    "* More complex models can almost always only be solved computationally\n",
    "* Developing the concepts and some intuition is easier if we start with a simple example where the math works out cleanly."
   ]
  },
  {
   "cell_type": "markdown",
   "metadata": {},
   "source": [
    "## What is Linear Regression?"
   ]
  },
  {
   "cell_type": "markdown",
   "metadata": {},
   "source": [
    "* Linear Regression is method of modeling\n",
    "* Using models that are **linear** in the parameters\n",
    "* In linear regression, the model may have the unsolved form of $y = a_0x^0 + a_1x^1 + a_2x^2 + a_3x^3$, and the solved form of $y = 0.5 + 1.7x + 0.003x^2 + 0.0000009x^3$\n",
    "* one view: the $a_n$ are the coefficients of the features $x_n$\n",
    "* another view: the $a_n$ are parameters and $x_n$ are \"dimensions\"\n",
    "* $y$ then can be seen as a **linear combination** of the \"features\" or \"dimensions\". Remember linear algebra?\n",
    "* The trick is to find the parameters $a_n$ while only allowing linear **powers** of $a_n$, not $a_n^2$ or worse!\n",
    "* Linear regression is linear in the **parameters** $a_0$, $a_1$, $a_2$, etc, but need not be limited to linear relationships between the **variables** $x$ and $y$"
   ]
  },
  {
   "cell_type": "markdown",
   "metadata": {},
   "source": [
    "## What is Least Squares?"
   ]
  },
  {
   "cell_type": "markdown",
   "metadata": {},
   "source": [
    "* Least Squares is one of many ways to estimate specific values for the parameters in a Linear Regression model.\n",
    "* Least Squares is what is often used to find the values for $a_0, a_1, a_2, ...$ in a linear regression model.\n",
    "* Least Squares applies a specific \"loss function\" to constrain the values for the model parameters\n",
    "* The most common use case for Least Squares is in the context of a Linear Regression where the parameters beyond $a_0$ and $a_1$ are assumed to be very small, because you suspect there is a linear relationship between $x$ and $y$\n"
   ]
  },
  {
   "cell_type": "markdown",
   "metadata": {},
   "source": [
    "# Confounding Linear Combinations and Linear Functions"
   ]
  },
  {
   "cell_type": "markdown",
   "metadata": {},
   "source": [
    "The *\"linear\"* in \"Linear Regression\" refers to the linearity of the parameters $a_0$ and $a_1$ in the model $f(a_0, a_1, x_n)$. The word \"linear\" does ***NOT*** refer to the linearity of $x_n$ in $f(a_0, a_1, x_n)$. The model $f$ can be non-linear in $x_n$, but if it is still linear in the parameters, the method is still called \"linear regression. You could use $f(a_0, a_1, x) = a_0 + a_1x + a_2x^2$ as the model family and then minimize the same sum to solve for specific values of $a_0, a_1, a_2$\n",
    "\n",
    "\n",
    "* more reading: https://en.wikipedia.org/wiki/Linear_model#Linear_regression_models"
   ]
  },
  {
   "cell_type": "markdown",
   "metadata": {},
   "source": [
    "## Linear Combinations"
   ]
  },
  {
   "cell_type": "markdown",
   "metadata": {},
   "source": [
    "The \"linear\" in \"linear regression\" refers not so much to lines and linear functions, but to \"linear combinations\" or \"linear superpositions\":"
   ]
  },
  {
   "cell_type": "markdown",
   "metadata": {},
   "source": [
    "Example: position of a particle in 3 dimenions, along 3 axes:\n",
    "\n",
    "$$\\vec{x} = a_1\\hat{x_1} + a_2\\hat{x_2} + a_3\\hat{x_3}$$"
   ]
  },
  {
   "cell_type": "markdown",
   "metadata": {},
   "source": [
    "Example: velocity of a particle in 3 dimensions:\n",
    "\n",
    "$$\\vec{v} = v_x\\hat{x} + v_y\\hat{y} + v_z\\hat{z}$$"
   ]
  },
  {
   "cell_type": "markdown",
   "metadata": {},
   "source": [
    "Example: rotation in 2 dimenions as a combination of sinusoids:\n",
    "\n",
    "$$\\vec{p}(t) = (R\\cos{\\omega t})\\hat{x} + (R\\sin{\\omega t})\\hat{y} $$"
   ]
  },
  {
   "cell_type": "markdown",
   "metadata": {},
   "source": [
    "Example: Taylor Series expansion\n",
    "\n",
    "$$ \\exp(x) = \\sum_{n=0}^{\\infty}{\\frac{x^n}{n!}} = \\frac{1}{0!}x^0 + \\frac{1}{1!}x^1 + \\frac{1}{2!}x^2 + \\frac{1}{3!}x^3 + \\dots$$"
   ]
  },
  {
   "cell_type": "markdown",
   "metadata": {},
   "source": [
    "## Linear Functions"
   ]
  },
  {
   "cell_type": "markdown",
   "metadata": {},
   "source": [
    "Linear Regression with Least Squares is used very commonly to model data where 2 variables appear to have a linear relationship.\n",
    "\n",
    "It's not just over-simplification nor just taking the easy way out. The world is filled with linear trends. \n",
    "* Physics provides a good context to explain.\n",
    "* Their are two primary mental models used in the physics of motion\n",
    "    * Forces\n",
    "    * Energy\n",
    "* There are two common ways to look at their relationship:\n",
    "    * Forces applied over time change how things move and change their energy\n",
    "    * Energy differences between nearby points in space result in a force on things moving between those points.\n",
    "* A metaphor to help: a marble in the bottom of a \"harmonic\" bowl\n",
    "    * the shape of the bowl may be complex, but in a small region near the bottom it can likely be modeled by a upwards turned parabola $E \\sim k x^2$\n",
    "    * near the bottom of the bowl the potential energy is lowest, and up on the sides, it's higher. A marble released on the side will roll down to the bottom. A marble released on the bottom does not move.\n",
    "    * a marble rolling up and down the sides experiences that as a force $F \\sim -kx$, linear in $x$ that increases linearly up the sides, as we move a distance $x$ away from the bottom of the bowl.\n",
    "* Since any dip in an \"energy surface\" can be roughly approximated as a parabola, $E \\sim kx^2$, and the force is related to the change in energy in space (derivative), $F \\sim -\\delta E \\sim -kx$, the linear forces appear all over physics.\n",
    "* This metaphor from physics -- of local minima in energy surfaces resulting in linear forces that drive change near those minima -- is used in many other fields like biology and economics.\n",
    "* No matter how complex the reality, if you can constrain yourself to care about a small enough local neighborhood around some minima, linear models will work."
   ]
  },
  {
   "cell_type": "markdown",
   "metadata": {},
   "source": [
    "# Explore the Data"
   ]
  },
  {
   "cell_type": "markdown",
   "metadata": {},
   "source": [
    "* Before we fit the data using a least squares constraint, we can use the techniques from quantitative EDA to check whether the variables $x$ and $y$ are correlated.\n",
    "* Would be nice to pick a real data set, but the randomly generated set works well for explaining the estimation part of linear regression."
   ]
  },
  {
   "cell_type": "code",
   "execution_count": 1,
   "metadata": {
    "collapsed": true
   },
   "outputs": [],
   "source": [
    "import numpy\n",
    "import matplotlib.pyplot as plt\n",
    "%matplotlib inline"
   ]
  },
  {
   "cell_type": "code",
   "execution_count": 2,
   "metadata": {
    "collapsed": true
   },
   "outputs": [],
   "source": [
    "def load_data(num_pts=101, a0=-4, a1=2, mu=0, sigma=1):\n",
    "    x = numpy.linspace(0,10,num_pts)\n",
    "    e = numpy.array([numpy.random.normal(mu,sigma) for n in range(num_pts)])\n",
    "    y = a0 + (a1*x) + e\n",
    "    return x,y"
   ]
  },
  {
   "cell_type": "code",
   "execution_count": 3,
   "metadata": {
    "collapsed": true
   },
   "outputs": [],
   "source": [
    "def plot_data(X_data, Y_data):\n",
    "    fig, axis = plt.subplots(figsize=(16,4))\n",
    "    axis.plot(X_data, Y_data,  label=\"data\",  color=\"black\", linestyle=\"\",  marker=\"o\")\n",
    "    axis.set_ylabel(\"Y Data\")\n",
    "    axis.set_xlabel(\"X Data\")\n",
    "    axis.grid(\"on\")\n",
    "    return fig, axis"
   ]
  },
  {
   "cell_type": "markdown",
   "metadata": {},
   "source": [
    "Always plot your data! https://en.wikipedia.org/wiki/Anscombe%27s_quartet"
   ]
  },
  {
   "cell_type": "code",
   "execution_count": 4,
   "metadata": {},
   "outputs": [
    {
     "data": {
      "image/png": "[encoded data removed]",
      "text/plain": [
       "<matplotlib.figure.Figure at 0x118f1db00>"
      ]
     },
     "metadata": {},
     "output_type": "display_data"
    }
   ],
   "source": [
    "x, y = load_data()\n",
    "plot_data(x, y,);"
   ]
  },
  {
   "cell_type": "markdown",
   "metadata": {},
   "source": [
    "## Are $x$ and $y$ Related?"
   ]
  },
  {
   "cell_type": "markdown",
   "metadata": {},
   "source": [
    "Review of discussion from previous course on statistics (quantitative EDA) the three summary statistics as a way to ease into least squares.\n",
    "* variance    = Independent variability of 1 thing\n",
    "* covariance  = Comparison of the variability of 2 things due to the codependence\n",
    "* correlation = Comparison of the variability due to the codependence, scaled by the product of the independenet variability of the 2 things separately"
   ]
  },
  {
   "cell_type": "markdown",
   "metadata": {},
   "source": [
    "\n",
    "$$Var(x) = \\sigma_{xx} = \\frac{\\sum_{n=1}^{N} (x_{n} - \\bar{X})^2}{(N-1)}$$\n",
    "\n",
    "$$Cov(x,y) = \\sigma_{xy} = \\frac{\\sum_{n=1}^{N} (x_{n} - \\bar{X})(y_{n} - \\bar{Y})}{(N-1)}$$\n",
    "\n",
    "$$ Corr(x,y) = \\rho_{xy} = \\frac{\\sigma_{xy}}{\\sigma_x\\sigma_y} =  \\frac{Cov(x,y)}{\\sqrt{Var(x)}\\sqrt{Var(y)}} $$\n"
   ]
  },
  {
   "cell_type": "markdown",
   "metadata": {},
   "source": [
    "## Variance"
   ]
  },
  {
   "cell_type": "code",
   "execution_count": 5,
   "metadata": {},
   "outputs": [
    {
     "data": {
      "text/plain": [
       "35.84141329426167"
      ]
     },
     "execution_count": 5,
     "metadata": {},
     "output_type": "execute_result"
    }
   ],
   "source": [
    "numpy.var(y)"
   ]
  },
  {
   "cell_type": "code",
   "execution_count": 6,
   "metadata": {},
   "outputs": [
    {
     "data": {
      "text/plain": [
       "8.5"
      ]
     },
     "execution_count": 6,
     "metadata": {},
     "output_type": "execute_result"
    }
   ],
   "source": [
    "numpy.var(x)"
   ]
  },
  {
   "cell_type": "markdown",
   "metadata": {},
   "source": [
    "## Covariance"
   ]
  },
  {
   "cell_type": "code",
   "execution_count": 7,
   "metadata": {},
   "outputs": [
    {
     "data": {
      "text/plain": [
       "array([[  8.585     ,  17.3823723 ],\n",
       "       [ 17.3823723 ,  36.19982743]])"
      ]
     },
     "execution_count": 7,
     "metadata": {},
     "output_type": "execute_result"
    }
   ],
   "source": [
    "# Covariance\n",
    "numpy.cov(x, y)"
   ]
  },
  {
   "cell_type": "markdown",
   "metadata": {},
   "source": [
    "## Correlation with `numpy`"
   ]
  },
  {
   "cell_type": "code",
   "execution_count": 8,
   "metadata": {},
   "outputs": [
    {
     "data": {
      "text/plain": [
       "array([[ 1.        ,  0.98601983],\n",
       "       [ 0.98601983,  1.        ]])"
      ]
     },
     "execution_count": 8,
     "metadata": {},
     "output_type": "execute_result"
    }
   ],
   "source": [
    "# Correlation [[(xx), (xy)], [(yx), (yy)]]\n",
    "numpy.corrcoef(x, y)"
   ]
  },
  {
   "cell_type": "code",
   "execution_count": 9,
   "metadata": {},
   "outputs": [
    {
     "data": {
      "text/plain": [
       "0.98601982649542352"
      ]
     },
     "execution_count": 9,
     "metadata": {},
     "output_type": "execute_result"
    }
   ],
   "source": [
    "numpy.corrcoef(x, y)[0, 1]"
   ]
  },
  {
   "cell_type": "markdown",
   "metadata": {},
   "source": [
    "## Correlation with `pandas`"
   ]
  },
  {
   "cell_type": "code",
   "execution_count": 10,
   "metadata": {},
   "outputs": [
    {
     "data": {
      "text/html": [
       "<div>\n",
       "<style>\n",
       "    .dataframe thead tr:only-child th {\n",
       "        text-align: right;\n",
       "    }\n",
       "\n",
       "    .dataframe thead th {\n",
       "        text-align: left;\n",
       "    }\n",
       "\n",
       "    .dataframe tbody tr th {\n",
       "        vertical-align: top;\n",
       "    }\n",
       "</style>\n",
       "<table border=\"1\" class=\"dataframe\">\n",
       "  <thead>\n",
       "    <tr style=\"text-align: right;\">\n",
       "      <th></th>\n",
       "      <th>x</th>\n",
       "      <th>y</th>\n",
       "    </tr>\n",
       "  </thead>\n",
       "  <tbody>\n",
       "    <tr>\n",
       "      <th>0</th>\n",
       "      <td>0.0</td>\n",
       "      <td>-4.149952</td>\n",
       "    </tr>\n",
       "    <tr>\n",
       "      <th>1</th>\n",
       "      <td>0.1</td>\n",
       "      <td>-3.567963</td>\n",
       "    </tr>\n",
       "    <tr>\n",
       "      <th>2</th>\n",
       "      <td>0.2</td>\n",
       "      <td>-2.760798</td>\n",
       "    </tr>\n",
       "    <tr>\n",
       "      <th>3</th>\n",
       "      <td>0.3</td>\n",
       "      <td>-3.604734</td>\n",
       "    </tr>\n",
       "    <tr>\n",
       "      <th>4</th>\n",
       "      <td>0.4</td>\n",
       "      <td>-3.385028</td>\n",
       "    </tr>\n",
       "  </tbody>\n",
       "</table>\n",
       "</div>"
      ],
      "text/plain": [
       "     x         y\n",
       "0  0.0 -4.149952\n",
       "1  0.1 -3.567963\n",
       "2  0.2 -2.760798\n",
       "3  0.3 -3.604734\n",
       "4  0.4 -3.385028"
      ]
     },
     "execution_count": 10,
     "metadata": {},
     "output_type": "execute_result"
    }
   ],
   "source": [
    "import pandas as pd\n",
    "df = pd.DataFrame()\n",
    "df['x'] = x\n",
    "df['y'] = y\n",
    "df.head()"
   ]
  },
  {
   "cell_type": "code",
   "execution_count": 11,
   "metadata": {},
   "outputs": [
    {
     "data": {
      "text/html": [
       "<div>\n",
       "<style>\n",
       "    .dataframe thead tr:only-child th {\n",
       "        text-align: right;\n",
       "    }\n",
       "\n",
       "    .dataframe thead th {\n",
       "        text-align: left;\n",
       "    }\n",
       "\n",
       "    .dataframe tbody tr th {\n",
       "        vertical-align: top;\n",
       "    }\n",
       "</style>\n",
       "<table border=\"1\" class=\"dataframe\">\n",
       "  <thead>\n",
       "    <tr style=\"text-align: right;\">\n",
       "      <th></th>\n",
       "      <th>x</th>\n",
       "      <th>y</th>\n",
       "    </tr>\n",
       "  </thead>\n",
       "  <tbody>\n",
       "    <tr>\n",
       "      <th>x</th>\n",
       "      <td>1.00000</td>\n",
       "      <td>0.98602</td>\n",
       "    </tr>\n",
       "    <tr>\n",
       "      <th>y</th>\n",
       "      <td>0.98602</td>\n",
       "      <td>1.00000</td>\n",
       "    </tr>\n",
       "  </tbody>\n",
       "</table>\n",
       "</div>"
      ],
      "text/plain": [
       "         x        y\n",
       "x  1.00000  0.98602\n",
       "y  0.98602  1.00000"
      ]
     },
     "execution_count": 11,
     "metadata": {},
     "output_type": "execute_result"
    }
   ],
   "source": [
    "df.corr()"
   ]
  },
  {
   "cell_type": "markdown",
   "metadata": {},
   "source": [
    "## Correlation with Scipy"
   ]
  },
  {
   "cell_type": "code",
   "execution_count": 12,
   "metadata": {
    "collapsed": true
   },
   "outputs": [],
   "source": [
    "from scipy.stats.stats import pearsonr"
   ]
  },
  {
   "cell_type": "code",
   "execution_count": 13,
   "metadata": {},
   "outputs": [
    {
     "name": "stdout",
     "output_type": "stream",
     "text": [
      "0.986019826495\n"
     ]
    }
   ],
   "source": [
    "pearson_r, p_value = pearsonr(x,y)\n",
    "print(pearson_r)"
   ]
  },
  {
   "cell_type": "markdown",
   "metadata": {},
   "source": [
    "# Model the Data"
   ]
  },
  {
   "cell_type": "markdown",
   "metadata": {},
   "source": [
    "Before jumping immediately to Least Squares or Linear Regression, let's try to model the data by guessing and explore how good we can guess by applying some commonly used measures of \"goodness of fit\"."
   ]
  },
  {
   "cell_type": "markdown",
   "metadata": {},
   "source": [
    "The analytic solution to least squares is know, and covered later in this notebook. Here we apply it to fit a line to our data. This procedure is very commonly taught in undergraduate and courses in science and used frequently throughout observational and experimental science."
   ]
  },
  {
   "cell_type": "code",
   "execution_count": 14,
   "metadata": {
    "collapsed": true
   },
   "outputs": [],
   "source": [
    "def model_guess(x_data, a0, a1):\n",
    "    x_min = numpy.min(x_data)\n",
    "    x_max = numpy.max(x_data)\n",
    "    num_pts = 101\n",
    "    x_model = numpy.linspace(x_min, x_max, num_pts)\n",
    "    intercept = a0\n",
    "    slope = a1\n",
    "    y_model = slope*x_data + intercept\n",
    "    return y_model"
   ]
  },
  {
   "cell_type": "code",
   "execution_count": 15,
   "metadata": {
    "collapsed": true
   },
   "outputs": [],
   "source": [
    "def plot_data_model(X_data, Y_data, Y_model):\n",
    "    fig, axis = plt.subplots(figsize=(16,4))\n",
    "    axis.plot(X_data, Y_data,  label=\"data\",  color=\"black\", linestyle=\"\",  marker=\"o\")\n",
    "    axis.plot(X_data, Y_model, label=\"model\", color=\"red\",   linestyle=\"-\", marker=\"\")\n",
    "    axis.legend()\n",
    "    axis.grid(\"on\")\n",
    "    return fig, axis"
   ]
  },
  {
   "cell_type": "code",
   "execution_count": 16,
   "metadata": {},
   "outputs": [
    {
     "data": {
      "image/png": "[encoded data removed]",
      "text/plain": [
       "<matplotlib.figure.Figure at 0x11f93dcc0>"
      ]
     },
     "metadata": {},
     "output_type": "display_data"
    }
   ],
   "source": [
    "# try different values for a0, a1, examine the resulting fit visually\n",
    "x, y = load_data()\n",
    "f = model_guess(x, a1=2, a0=-5)\n",
    "plot_data_model(x, y, f);"
   ]
  },
  {
   "cell_type": "markdown",
   "metadata": {},
   "source": [
    "## Goodness of Fit"
   ]
  },
  {
   "cell_type": "markdown",
   "metadata": {},
   "source": [
    "How do we measure, quantitatively, whether or chosen model is any good? Let's compare several different candidate error functions, or what later we'll call \"cost\" functions."
   ]
  },
  {
   "cell_type": "code",
   "execution_count": 17,
   "metadata": {
    "collapsed": true
   },
   "outputs": [],
   "source": [
    "x, y = load_data()\n",
    "f = model_guess(x, a1=2, a0=-5)"
   ]
  },
  {
   "cell_type": "markdown",
   "metadata": {},
   "source": [
    "## Error or \"Loss\" Functions"
   ]
  },
  {
   "cell_type": "code",
   "execution_count": 18,
   "metadata": {
    "collapsed": true
   },
   "outputs": [],
   "source": [
    "def error_residuals(y_data, y_model):\n",
    "    return numpy.sum( y_data - y_model )"
   ]
  },
  {
   "cell_type": "code",
   "execution_count": 19,
   "metadata": {},
   "outputs": [
    {
     "data": {
      "text/plain": [
       "108.96268565468193"
      ]
     },
     "execution_count": 19,
     "metadata": {},
     "output_type": "execute_result"
    }
   ],
   "source": [
    "error_residuals(y, f)"
   ]
  },
  {
   "cell_type": "code",
   "execution_count": 20,
   "metadata": {
    "collapsed": true
   },
   "outputs": [],
   "source": [
    "def error_squares(y_data, y_model):\n",
    "    return numpy.sum( (y_data - y_model)**2 )"
   ]
  },
  {
   "cell_type": "code",
   "execution_count": 22,
   "metadata": {},
   "outputs": [
    {
     "data": {
      "text/plain": [
       "205.43865966218115"
      ]
     },
     "execution_count": 22,
     "metadata": {},
     "output_type": "execute_result"
    }
   ],
   "source": [
    "error_squares(y, f)"
   ]
  },
  {
   "cell_type": "code",
   "execution_count": 23,
   "metadata": {
    "collapsed": true
   },
   "outputs": [],
   "source": [
    "def error_root_squares(y_data, y_model):\n",
    "    return numpy.sqrt(numpy.sum( (y_data - y_model)**2 ))"
   ]
  },
  {
   "cell_type": "code",
   "execution_count": 24,
   "metadata": {},
   "outputs": [
    {
     "data": {
      "text/plain": [
       "14.333131537182695"
      ]
     },
     "execution_count": 24,
     "metadata": {},
     "output_type": "execute_result"
    }
   ],
   "source": [
    "error_root_squares(y, f)"
   ]
  },
  {
   "cell_type": "code",
   "execution_count": 25,
   "metadata": {
    "collapsed": true
   },
   "outputs": [],
   "source": [
    "def error_root_mean_squares(y_data, y_model):\n",
    "    rss = numpy.sum( (y_data - y_model)**2 )\n",
    "    err = numpy.sqrt( rss/len(y_data) )\n",
    "    return err"
   ]
  },
  {
   "cell_type": "code",
   "execution_count": 26,
   "metadata": {},
   "outputs": [
    {
     "data": {
      "text/plain": [
       "1.4261998931668451"
      ]
     },
     "execution_count": 26,
     "metadata": {},
     "output_type": "execute_result"
    }
   ],
   "source": [
    "error_root_mean_squares(y, f)"
   ]
  },
  {
   "cell_type": "markdown",
   "metadata": {},
   "source": [
    "## Residuals"
   ]
  },
  {
   "cell_type": "code",
   "execution_count": 32,
   "metadata": {},
   "outputs": [],
   "source": [
    "def residuals(y_data, y_model):\n",
    "    return (y_data - y_model)"
   ]
  },
  {
   "cell_type": "code",
   "execution_count": 34,
   "metadata": {},
   "outputs": [
    {
     "data": {
      "text/plain": [
       "[<matplotlib.lines.Line2D at 0x11fac7f98>]"
      ]
     },
     "execution_count": 34,
     "metadata": {},
     "output_type": "execute_result"
    },
    {
     "data": {
      "image/png": "[encoded data removed]",
      "text/plain": [
       "<matplotlib.figure.Figure at 0x11f926e48>"
      ]
     },
     "metadata": {},
     "output_type": "display_data"
    }
   ],
   "source": [
    "plt.plot(x, residuals(y, f))"
   ]
  },
  {
   "cell_type": "code",
   "execution_count": 36,
   "metadata": {},
   "outputs": [],
   "source": [
    "def square_residuals(y_data, y_model):\n",
    "    return (y_data - y_model)**2"
   ]
  },
  {
   "cell_type": "code",
   "execution_count": 37,
   "metadata": {},
   "outputs": [
    {
     "data": {
      "text/plain": [
       "[<matplotlib.lines.Line2D at 0x11fb1d748>]"
      ]
     },
     "execution_count": 37,
     "metadata": {},
     "output_type": "execute_result"
    },
    {
     "data": {
      "image/png": "[encoded data removed]",
      "text/plain": [
       "<matplotlib.figure.Figure at 0x11b2fac50>"
      ]
     },
     "metadata": {},
     "output_type": "display_data"
    }
   ],
   "source": [
    "plt.plot(x, square_residuals(y, f))"
   ]
  },
  {
   "cell_type": "markdown",
   "metadata": {},
   "source": [
    "## Standard Error"
   ]
  },
  {
   "cell_type": "code",
   "execution_count": 28,
   "metadata": {
    "collapsed": true
   },
   "outputs": [],
   "source": [
    "def std_err(y_data, y_model):\n",
    "    rss = numpy.sum( (y_data - y_model)**2 )\n",
    "    err = numpy.sqrt( rss/len(y_data) )\n",
    "    return err"
   ]
  },
  {
   "cell_type": "code",
   "execution_count": 29,
   "metadata": {},
   "outputs": [
    {
     "data": {
      "text/plain": [
       "1.4261998931668451"
      ]
     },
     "execution_count": 29,
     "metadata": {},
     "output_type": "execute_result"
    }
   ],
   "source": [
    "standard_error = std_err(y,f)\n",
    "standard_error"
   ]
  },
  {
   "cell_type": "markdown",
   "metadata": {},
   "source": [
    "## Manually Minimize Errors"
   ]
  },
  {
   "cell_type": "markdown",
   "metadata": {},
   "source": [
    "Try many different values for b, m to see which set of values gives you the best \"goodness of fit\""
   ]
  },
  {
   "cell_type": "code",
   "execution_count": 38,
   "metadata": {
    "collapsed": true
   },
   "outputs": [],
   "source": [
    "x, y = load_data()"
   ]
  },
  {
   "cell_type": "code",
   "execution_count": 39,
   "metadata": {},
   "outputs": [
    {
     "data": {
      "text/plain": [
       "1.3817680286122918"
      ]
     },
     "execution_count": 39,
     "metadata": {},
     "output_type": "execute_result"
    },
    {
     "data": {
      "image/png": "[encoded data removed]",
      "text/plain": [
       "<matplotlib.figure.Figure at 0x11fc15f98>"
      ]
     },
     "metadata": {},
     "output_type": "display_data"
    }
   ],
   "source": [
    "f = model_guess(x, a0=-3, a1=2)\n",
    "plot_data_model(x, y, f)\n",
    "std_err(y, f)"
   ]
  },
  {
   "cell_type": "markdown",
   "metadata": {},
   "source": [
    "# Least Squares: Think Optimization of $a_n$"
   ]
  },
  {
   "cell_type": "markdown",
   "metadata": {},
   "source": [
    "The \"least\" in \"least squares\" tells us this is a ***minimization*** or \"optimization\" game: the \"squares\" in \"least squares\" hints at the form of the \"loss function\" that we're trying to nudge towards it's \"least\" possible value.\n",
    "* The thing we want to minimize is some measure of error in how well the model mimics the data.\n",
    "* The best case scenario would be all the data points lie on the model line and so the distance from each point to the line is ZERO. So the sum of all those \"errors\" is also zero.\n",
    "* The larger the sum of the distances, the worse the model.\n",
    "* Large errors in the positive and negative directions should NOT cancel each other out.\n",
    "* So the measure of error selected for the model fit is the sum of the square of the vertical distances.\n",
    "* Minimizing this measure of error gives the parameter values that when plugged into the general model equation define a single model."
   ]
  },
  {
   "cell_type": "markdown",
   "metadata": {},
   "source": [
    "Given some measured data in a table $(x,y)$, we'd like \"fit\" the data with a model. We start by deciding that we'll try to fit some form or linear model to our data. A linear model that has the form:\n",
    "\n",
    "$$f(x,a_0,a_1) = a_0 + a_1x$$"
   ]
  },
  {
   "cell_type": "markdown",
   "metadata": {},
   "source": [
    "But this doesn't define a single model. It defines an entire family of models. To get a specific model, we have to chose \"optimal\" values for $a_0$ and $a_1$. How do we select the \"optimal\" values for $(a_0, a_1)$? Well, not every value will result in a good \"fit\" to the data. We have to find a way to pick the values of $a_0$ and $a_1$ that result in the \"best\" fit, as determining by some measure."
   ]
  },
  {
   "cell_type": "markdown",
   "metadata": {},
   "source": [
    "The goal is to come up with a method for selecting the \"optimal\" values of $a_0, a_1$, so that for example:\n",
    "\n",
    "$$a_0 = 1$$\n",
    "\n",
    "$$a_1 = 2$$\n",
    "\n",
    "$$f(x) = 1 + 2x$$"
   ]
  },
  {
   "cell_type": "markdown",
   "metadata": {},
   "source": [
    "So in order to \"optimize\" or model $f(a_0, a_1)$ to fit a given data set, we need to define what we mean by \"optimal\". What is the measure of \"optimal\"? Usually this is stated as minimizing of something called a \"loss function\", which is just some measure of \"error\" in the model. Error is though of as the difference between the model and the data, for every comparison of the model $f(a_0, a_1, x_n)$ to a data point $y_n(x_n)$ for all points, $n = 0,1,...,N$."
   ]
  },
  {
   "cell_type": "markdown",
   "metadata": {},
   "source": [
    "Least-squares fitting is called \"least-squares\" because the \"optimal\" fit $f(a_0,a_1)$ is ***defined*** as the one that yields the smallest possible value for the \"sum of the squares\". Which squares? In this case, the \"loss function\" $L$ is just chosen to be the sum of the squares of the vertical distance $\\Delta y$ between the data $y$ and the model $f(x,a_0,a_1)$: \n",
    "\n",
    "$$L = \\sum_n (\\Delta y_n)^2$$"
   ]
  },
  {
   "cell_type": "markdown",
   "metadata": {},
   "source": [
    "$$\\Delta y_n = y_n - f(x_n)$$"
   ]
  },
  {
   "cell_type": "markdown",
   "metadata": {},
   "source": [
    "In statistics, a \"residual\" is the difference between an observed value and a predicted value:\n",
    "\n",
    "$$r_n = \\Delta y_n$$\n",
    "\n",
    "So then the loss $L$ is \n",
    "\n",
    "$$L = \\sum r_n^2 = \\sum_n (y_n - f(x_n))^2$$\n",
    "\n",
    "So the goal is to minimize the sum of the squared residuals. The term \"residual sum of squares\" or \"RSS\" is often used."
   ]
  },
  {
   "cell_type": "markdown",
   "metadata": {},
   "source": [
    "The sum of the squares of residuals, \"residual sum of squares (RSS)\", is...\n",
    "\n",
    "> a measure of the discrepancy between the data and an estimation model; Ordinary least squares (OLS) is a method for estimating the unknown parameters in a linear regression model, with the goal of minimizing the differences between the observed responses in some arbitrary dataset and the responses predicted by the linear approximation of the data. -- https://en.wikipedia.org/wiki/Residual_sum_of_squares\n",
    "\n",
    "> So RSS is a measure of how good the model approximates the data while OLS is a method of constructing a good model."
   ]
  },
  {
   "cell_type": "markdown",
   "metadata": {},
   "source": [
    "Why not just use $\\Delta y_n$ instead of $(\\Delta y_n)^2$ for the measure of error? For our overall error measure to make any sense, large height differences should not cancel out if one $\\Delta y_n$ is positive and one is negative."
   ]
  },
  {
   "cell_type": "markdown",
   "metadata": {},
   "source": [
    "Notice that since the model is a function of $a_0$ and $a_1$, then so is the error, and then so is the sum $S$:\n",
    "\n",
    "$$\\Delta y_n = y_n - f(a_0, a_1, x_n)$$\n",
    "\n",
    "$$L(a_0, a_1) = \\sum [\\Delta y_n(a_0, a_1)]^2 = \\sum_n^N [y_n - (a_0 + a_1x_n)]^2$$"
   ]
  },
  {
   "cell_type": "markdown",
   "metadata": {},
   "source": [
    "So the game is to find the specific values of $a_0, a_1$ that give the smallest possible value of $L(a_0, a_1)$ when compared to any other values input for $a_0, a_1$. If you remember calculus, a common way to find the minimum value of a function was to take a derivative, set it to zero $\\delta L = 0$, and solve for a parameter value. You can take derivatives of $L(a_o, a_1)$ with respect to $a_0$ and $a_1$, and set those derivatives to zero, $\\delta L/\\delta a_0 = 0$ and $\\delta L/\\delta a_1 = 0$, and use a bit of algebra to find the analytic solution for $a_0$ and $a_1$."
   ]
  },
  {
   "cell_type": "markdown",
   "metadata": {},
   "source": [
    "$$a_1 = \\frac{  \\sum_{n=1}^{N} (x_{n} - \\bar{X})(y_{n} - \\bar{Y})  }{ \\sum_{n=1}^{N} (x_{n} - \\bar{X})^2  } $$\n",
    "\n",
    "$$a_0 = \\bar{Y} - a_1 \\bar{X}$$\n",
    "\n",
    "where $\\bar{X}$ is the mean value of $x$: $$\\bar{X} = \\frac{\\sum_{n=1}^{N}x_{n}}{N}$$"
   ]
  },
  {
   "cell_type": "markdown",
   "metadata": {},
   "source": [
    "Notice the $a_1$ is the covariance of x and y normalized by the variance of x.\n",
    "\n",
    "$$Cov(x,y) = \\frac{\\sum_{n=1}^{N} (x_{n} - \\bar{X})(y_{n} - \\bar{Y})}{(N-1)}$$\n",
    "\n",
    "$$Var(x) = \\frac{\\sum_{n=1}^{N} (x_{n} - \\bar{X})^2}{(N-1)}$$\n",
    "\n",
    "$$a_1 = \\frac{ Cov(x,y) } {Var(x)}$$"
   ]
  },
  {
   "cell_type": "markdown",
   "metadata": {},
   "source": [
    "It turns out that the optimal regression line will always pass through the point $(\\bar{X}, \\bar{Y})$ and the sum of the (linear) residuals will always be ZERO: \n",
    "\n",
    "$$\\sum_n r_n = 0 $$\n",
    "\n",
    "A useful physical metaphor is that the residuals are like masses placed on either end of a bar (the fit line) that balances on a pivot point $(\\bar{X}, \\bar{Y})$, and the masses on the left and right must balance each other out. The \"moment arm\" increases as the distance from the pivot increases, so smaller residuals out on the end have a greater influence over the slope of the fit line than do residuals closer to the pivot. This can be seen in the covariance term $(x_{n} - \\bar{X})(y_{n} - \\bar{Y})$ if you think of the residual $(y_{n} - \\bar{Y})$ as the mass and $(x_{n} - \\bar{X})$ as the moment arm length, or horizontal distance from the \"center of mass\""
   ]
  },
  {
   "cell_type": "markdown",
   "metadata": {},
   "source": [
    "## Minimization of the Residual Sum of the Squares"
   ]
  },
  {
   "cell_type": "markdown",
   "metadata": {},
   "source": [
    "Least Squares has the \"cost\" function imbedded in it's name: find the parameters that result is the smallest or \"least\" value possible for the \"squares\" of the residuals."
   ]
  },
  {
   "cell_type": "code",
   "execution_count": 41,
   "metadata": {
    "collapsed": true
   },
   "outputs": [],
   "source": [
    "def rss(y_data, y_model):\n",
    "    rss = numpy.sum( (y_data - y_model)**2 )\n",
    "    return rss"
   ]
  },
  {
   "cell_type": "code",
   "execution_count": 42,
   "metadata": {},
   "outputs": [
    {
     "data": {
      "text/plain": [
       "192.837571374405"
      ]
     },
     "execution_count": 42,
     "metadata": {},
     "output_type": "execute_result"
    }
   ],
   "source": [
    "# RSS = residual sum of the squares\n",
    "rss(y, f)"
   ]
  },
  {
   "cell_type": "code",
   "execution_count": 43,
   "metadata": {},
   "outputs": [
    {
     "data": {
      "text/plain": [
       "0.7893852213120568"
      ]
     },
     "execution_count": 43,
     "metadata": {},
     "output_type": "execute_result"
    }
   ],
   "source": [
    "# Variance of the residuals\n",
    "numpy.var(y - f)"
   ]
  },
  {
   "cell_type": "markdown",
   "metadata": {},
   "source": [
    "Notice that the variance is the average RSS. SO then we could define an error that is the $\\sqrt{RSS}$..."
   ]
  },
  {
   "cell_type": "markdown",
   "metadata": {},
   "source": [
    "## Analytic Solution"
   ]
  },
  {
   "cell_type": "code",
   "execution_count": 44,
   "metadata": {
    "collapsed": true
   },
   "outputs": [],
   "source": [
    "def model_least_squares(x,y):\n",
    "    X_bar = numpy.sum(x)/len(x)\n",
    "    Y_bar = numpy.sum(y)/len(y)\n",
    "    m = numpy.sum( (x - X_bar)*(y - Y_bar) )/numpy.sum( (x - X_bar)**2 )\n",
    "    b = Y_bar - (m*X_bar)\n",
    "    return m, b"
   ]
  },
  {
   "cell_type": "code",
   "execution_count": 46,
   "metadata": {},
   "outputs": [
    {
     "data": {
      "image/png": "[encoded data removed]",
      "text/plain": [
       "<matplotlib.figure.Figure at 0x11fd824a8>"
      ]
     },
     "metadata": {},
     "output_type": "display_data"
    }
   ],
   "source": [
    "x, y = load_data()\n",
    "m, b = model_least_squares(x, y)\n",
    "f = m*x + b\n",
    "plot_data_model(x, y, f);"
   ]
  },
  {
   "cell_type": "markdown",
   "metadata": {},
   "source": [
    "## Total = Explained + Residual"
   ]
  },
  {
   "cell_type": "code",
   "execution_count": 47,
   "metadata": {
    "collapsed": true
   },
   "outputs": [],
   "source": [
    "# Total Sum of the Squares\n",
    "def tss(y):\n",
    "    y_mean = numpy.sum(y)/len(y)\n",
    "    tss = numpy.sum( (y - y_mean)**2 )\n",
    "    return tss"
   ]
  },
  {
   "cell_type": "code",
   "execution_count": 48,
   "metadata": {
    "collapsed": true
   },
   "outputs": [],
   "source": [
    "# Explained Sum of the Squares]\n",
    "def ess(y, f):\n",
    "    y_mean = numpy.sum(y)/len(y)\n",
    "    ess = numpy.sum( (f - y_mean)**2 )\n",
    "    return ess"
   ]
  },
  {
   "cell_type": "code",
   "execution_count": 49,
   "metadata": {
    "collapsed": true
   },
   "outputs": [],
   "source": [
    "# Residual Sum of the Squares\n",
    "def rss(y, f):\n",
    "    rss = numpy.sum( (f - y)**2 )\n",
    "    return rss"
   ]
  },
  {
   "cell_type": "markdown",
   "metadata": {},
   "source": [
    "## R-Squared"
   ]
  },
  {
   "cell_type": "markdown",
   "metadata": {},
   "source": [
    "Another measure of the goodness of fit is $R^2$, the square of the correlation"
   ]
  },
  {
   "cell_type": "markdown",
   "metadata": {},
   "source": [
    "https://en.wikipedia.org/wiki/Coefficient_of_determination"
   ]
  },
  {
   "cell_type": "code",
   "execution_count": 50,
   "metadata": {
    "collapsed": true
   },
   "outputs": [],
   "source": [
    "def r_square(y,f):\n",
    "    return ess(y,f)/tss(y)"
   ]
  },
  {
   "cell_type": "code",
   "execution_count": 51,
   "metadata": {
    "collapsed": true
   },
   "outputs": [],
   "source": [
    "def F_stat(y,f):\n",
    "    return ess(y,f)/( rss(y,f)/ (len(y) - 2) )"
   ]
  },
  {
   "cell_type": "markdown",
   "metadata": {},
   "source": [
    "# Linear Regression: Think Statistical Inference of $y_n$"
   ]
  },
  {
   "cell_type": "markdown",
   "metadata": {},
   "source": [
    "The way to describe \"Linear Regression\" is as follows: for a given $x_n$, while you only measured a single $y_n$, there is actually a *distribution* of possible values $y_n$. The inference problem is to determine this distribution. Imagine that the single measured value $y_n$ found by a single measurement at $x_n$ was actually just a single \"draw\" or \"sample\" from a larger underlying population distribution of possible values. Imagine tiny little guassian bell curves, one at each point $x_n$, each bell spreading out NOT HORIZONTALLY IN X BUT VERTICALLY IN Y, so vertically bells along the $y$ direction. "
   ]
  },
  {
   "cell_type": "markdown",
   "metadata": {},
   "source": [
    "For some $x_n$, the measured $y_n$ is in the middle of the bell, at the peak of it's underlying bell, but for others it's off-center. So we interpret the scatter of $y_n$ values about the fit line as natural random variation coming from our random draws, our observations, of the underlying distributions. And our prediction for the *mean* of each of those distributions we are sampling from is given by the linear model $a_0 + a_1x_n$. "
   ]
  },
  {
   "cell_type": "markdown",
   "metadata": {},
   "source": [
    "The goal in linear regression can then be seen as being an attempt to *estimate* the underlying distribution $y_{n,i}$ at point $x_n$, by using the *mean* of the samples as the \"estimator\" statistic to estimate the underlying distribution. So then the single value $y_n$, given by $y_n = a_0 + a_1x_n$, is the *mean* value of the underlying distribution of many values at a single $x_n$. "
   ]
  },
  {
   "cell_type": "markdown",
   "metadata": {},
   "source": [
    "$$\\mu \\{Y|X\\} = a_0 + a_1X$$"
   ]
  },
  {
   "cell_type": "markdown",
   "metadata": {},
   "source": [
    "The mean of $Y$, conditioned on $X$ is given by $a_0 + a_1X$."
   ]
  },
  {
   "cell_type": "markdown",
   "metadata": {},
   "source": [
    "The fit line will reveal the mean values for the underlying distributions of $y$. The process of minimizing the RSS, in a way, causes the solution to \"regress\" to the mean.\n",
    "\n",
    "https://en.wikipedia.org/wiki/Regression_toward_the_mean#History\n",
    "\n",
    "> The concept of regression comes from genetics and was popularized by Sir Francis Galton during the late 19th century with the publication of Regression towards mediocrity in hereditary stature.[9] Galton observed that extreme characteristics (e.g., height) in parents are not passed on completely to their offspring. Rather, the characteristics in the offspring regress towards a mediocre point (a point which has since been identified as the mean). By measuring the heights of hundreds of people, he was able to quantify regression to the mean, and estimate the size of the effect. "
   ]
  },
  {
   "cell_type": "markdown",
   "metadata": {},
   "source": [
    "## Simulating Many Measurements"
   ]
  },
  {
   "cell_type": "markdown",
   "metadata": {},
   "source": [
    "If we just do a single measurement run, we might expect to see something like this:"
   ]
  },
  {
   "cell_type": "code",
   "execution_count": 52,
   "metadata": {},
   "outputs": [
    {
     "data": {
      "image/png": "[encoded data removed]",
      "text/plain": [
       "<matplotlib.figure.Figure at 0x11f9c2898>"
      ]
     },
     "metadata": {},
     "output_type": "display_data"
    }
   ],
   "source": [
    "fig, axis = plt.subplots()\n",
    "x, y = load_data()\n",
    "axis.plot(x,y, linestyle=\"\", marker=\"o\")\n",
    "axis.grid(\"on\")\n",
    "axis.set_ylabel(\"Y\")\n",
    "axis.set_xlabel(\"X\");"
   ]
  },
  {
   "cell_type": "markdown",
   "metadata": {},
   "source": [
    "What if we do a hundred of these runs. We can simulate many runs, as some have called \"hacker statistics\". We could do this using bootstrapping, but here we'll just call `load_data()` a generate new data sets. What we're about to do is very analogous to the bootstapping procedure used previously. Under-the-hood, `load_data()` is called `numpy.random.gauss()` everytime."
   ]
  },
  {
   "cell_type": "code",
   "execution_count": 53,
   "metadata": {},
   "outputs": [
    {
     "data": {
      "image/png": "[encoded data removed]",
      "text/plain": [
       "<matplotlib.figure.Figure at 0x11f950128>"
      ]
     },
     "metadata": {},
     "output_type": "display_data"
    }
   ],
   "source": [
    "fig, axis = plt.subplots()\n",
    "for n in range(0,1000):\n",
    "    x, y = load_data()\n",
    "    axis.plot(x,y, linestyle=\"\", marker=\"o\")\n",
    "axis.grid(\"on\")\n",
    "axis.set_ylabel(\"Y\")\n",
    "axis.set_xlabel(\"X\");"
   ]
  },
  {
   "cell_type": "markdown",
   "metadata": {},
   "source": [
    "## Regression to the Mean"
   ]
  },
  {
   "cell_type": "markdown",
   "metadata": {},
   "source": [
    "Let's look at a single value of $x$... that is, what is $y$ conditioned on $x$?"
   ]
  },
  {
   "cell_type": "code",
   "execution_count": 54,
   "metadata": {},
   "outputs": [
    {
     "data": {
      "image/png": "[encoded data removed]",
      "text/plain": [
       "<matplotlib.figure.Figure at 0x1210be0b8>"
      ]
     },
     "metadata": {},
     "output_type": "display_data"
    }
   ],
   "source": [
    "fig, axis = plt.subplots()\n",
    "for n in range(0,1000):\n",
    "    x, y = load_data()\n",
    "    axis.plot(x[20],y[20], linestyle=\"\", marker=\"o\")\n",
    "axis.grid(\"on\")\n",
    "axis.set_ylabel(\"Y\")\n",
    "axis.set_xlabel(\"X\");"
   ]
  },
  {
   "cell_type": "markdown",
   "metadata": {},
   "source": [
    "And let's use a histogram to visualize that vertical $y$ distribution..."
   ]
  },
  {
   "cell_type": "code",
   "execution_count": 55,
   "metadata": {
    "scrolled": true
   },
   "outputs": [
    {
     "data": {
      "image/png": "[encoded data removed]",
      "text/plain": [
       "<matplotlib.figure.Figure at 0x11fcf3320>"
      ]
     },
     "metadata": {},
     "output_type": "display_data"
    }
   ],
   "source": [
    "y_samples = []\n",
    "for n in range(0,1000):\n",
    "    x, y = load_data()\n",
    "    y_samples.append(y[20])\n",
    "\n",
    "fig, axis = plt.subplots()\n",
    "plt.hist(y_samples, bins=numpy.linspace(-2.5,+2.5, 21))\n",
    "axis.grid(\"on\")\n",
    "axis.set_ylabel(\"Y\")\n",
    "axis.set_xlabel(\"Sample Bins\");"
   ]
  },
  {
   "cell_type": "markdown",
   "metadata": {},
   "source": [
    "Or if you prefer to avoid all the binning problems associated with histograms, let's use a CDF instead..."
   ]
  },
  {
   "cell_type": "code",
   "execution_count": 56,
   "metadata": {},
   "outputs": [
    {
     "data": {
      "image/png": "[encoded data removed]",
      "text/plain": [
       "<matplotlib.figure.Figure at 0x11f94a0f0>"
      ]
     },
     "metadata": {},
     "output_type": "display_data"
    }
   ],
   "source": [
    "y_samples = []\n",
    "for n in range(0,1000):\n",
    "    x, y = load_data()\n",
    "    y_samples.append(y[20])\n",
    "\n",
    "fig, axis = plt.subplots()\n",
    "plt.hist(y_samples, bins=numpy.linspace(-2.5,+2.5, 21), normed=True, cumulative=True)\n",
    "axis.grid(\"on\")\n",
    "axis.set_ylabel(\"Y\")\n",
    "axis.set_xlabel(\"Sample Bins\");"
   ]
  },
  {
   "cell_type": "markdown",
   "metadata": {},
   "source": [
    "This is roughly the underlying distribution of $y_n$ conditioned on $x_n$."
   ]
  },
  {
   "cell_type": "markdown",
   "metadata": {},
   "source": [
    "## Estimation"
   ]
  },
  {
   "cell_type": "markdown",
   "metadata": {},
   "source": [
    "This mean value $y_n$ is the \"estimator\" of that distribution, in the sense that we can use it to reconstruct a specific gaussian curve. But how do we do that? Well we have to get the variance from somewhere -- you cannot build a gaussian without knowing both mean and variance ($\\mu$,$\\sigma$) -- so we take a leap and **ASSUME** that every single distribution hiding at each of the many values of $x_n$, that they all have the **SAME VARIANCE**. How does that help? Well then we can treat the variance of $y$ values as seen across **MANY** locations $x$ as being identical to the variance of the underlying distribution at a **SINGLE** location $x_n$. So then now we have the *mean* and the *variance* at for each distribution at each $x_n$, and thus we can construct the guassian at that point."
   ]
  },
  {
   "cell_type": "markdown",
   "metadata": {},
   "source": [
    "If the distribution of the residuals is gaussian, and every distribution, one at each point $x_n$ is also gaussian, and they all have the same **variance** (spread), then it turns out that Least Squares is the condition that gives you the best fit possible. ***THAT*** is why we see Least Squares used so often. It's very often the best you can do! These assumptions are often unknowingly and unconsciously made. While they often happen to be true, when they are not, using OLS would NOT result the optimal fit!"
   ]
  },
  {
   "cell_type": "markdown",
   "metadata": {},
   "source": [
    "## Linear Regression seems more complex. Why bother?"
   ]
  },
  {
   "cell_type": "markdown",
   "metadata": {},
   "source": [
    "Thinking about the problem as an estimation makes it easier to answer questions such as how much of the trend in a scattering of data is the actual linear line and how much is random variation characterized by those \"vertical\" distributions in y?\n",
    "\n",
    "Talk about measures of how good the estimation/fit turned out. Talk about correlation coefficient.\n",
    "\n",
    "The **correlation coefficient** gives the fraction that is due to the trend, and the rest is due to \"randomness\" of the distribution in y values at a given x.\n",
    "\n",
    "Plot the residuals to check whether the assumptions that went into the modeling are correct. The residuals should be normally distrinbuted with constant variance."
   ]
  },
  {
   "cell_type": "markdown",
   "metadata": {},
   "source": [
    "## Computational Solutions"
   ]
  },
  {
   "cell_type": "markdown",
   "metadata": {},
   "source": [
    "For a simple model like $f(a_0, a_1, x) = a_0 + a_1x$, we can find an analytic solution for $a_0, a_1$ that minimizes some measure of error, for how well the model fits the data, and we can do this without a computer, using a simple bit of calculus and some algebra."
   ]
  },
  {
   "cell_type": "markdown",
   "metadata": {},
   "source": [
    "But for more complex models, an analytic solution is often impossible. The formula cannot be found.  In these cases a solution can only be found using ***computational methods***. These computational methods are implemented in python libraries such as **`scipy`**, **`statsmodels`**, and **`scikit-learn`**."
   ]
  },
  {
   "cell_type": "markdown",
   "metadata": {},
   "source": [
    "# Top Ten Methods for Linear Regression"
   ]
  },
  {
   "cell_type": "markdown",
   "metadata": {},
   "source": [
    "1. `numpy`, using the analytic formula\n",
    "2. `numpy.polyfit`, using `deg=1`\n",
    "3. `numpy.linalg`, using `lstsq()` method \n",
    "4. `scipy.stats`, using the `linregress()` method\n",
    "5. `scipy.optimize`, using the `curve_fit()` method\n",
    "6. `statsmodels.api`, using `OLS()` method\n",
    "7. `statsmodels.formula.api`, using formula string API with `pandas.DataFrame()`\n",
    "8. `sklearn.linear_model`, using the `LinearRegression` class.\n",
    "9. `tensorflow`, using `GradientDescentOptimizer`\n",
    "10. `tensorflow`, using `GradientDescentOptimizer`, train-test-split"
   ]
  },
  {
   "cell_type": "markdown",
   "metadata": {},
   "source": [
    "## Linear Regression with analytic solution"
   ]
  },
  {
   "cell_type": "markdown",
   "metadata": {},
   "source": [
    "In the simple case of (\"Ordinary\" or \"Linear\") Least-Squares fitting, minimizing the vertical distances can be done analytically. So solving the optimization problem can be done analytically. For more complex models, there may be no analytic solution, and the only approach possible is numeric."
   ]
  },
  {
   "cell_type": "markdown",
   "metadata": {},
   "source": [
    "Let's encapsulate the analytic solution in a function, and follow a procedure that will look familiar with more complex tools and models latter when only computational methods will work."
   ]
  },
  {
   "cell_type": "code",
   "execution_count": 57,
   "metadata": {
    "collapsed": true
   },
   "outputs": [],
   "source": [
    "def model(x,y):\n",
    "    X_bar = numpy.sum(x)/len(x)\n",
    "    Y_bar = numpy.sum(y)/len(y)\n",
    "    m = numpy.sum( (x - X_bar)*(y - Y_bar) )/numpy.sum( (x - X_bar)**2 )\n",
    "    b = Y_bar - (m*X_bar)\n",
    "    return m, b"
   ]
  },
  {
   "cell_type": "code",
   "execution_count": 58,
   "metadata": {
    "collapsed": true
   },
   "outputs": [],
   "source": [
    "x, y = load_data()\n",
    "X_data = x\n",
    "Y_data = y\n",
    "slope, intercept = model(X_data, Y_data)\n",
    "X_model = x\n",
    "Y_model = slope*x + intercept"
   ]
  },
  {
   "cell_type": "code",
   "execution_count": 59,
   "metadata": {},
   "outputs": [
    {
     "data": {
      "image/png": "[encoded data removed]",
      "text/plain": [
       "<matplotlib.figure.Figure at 0x12005af28>"
      ]
     },
     "metadata": {},
     "output_type": "display_data"
    }
   ],
   "source": [
    "plot_data_model(X_data, Y_data, Y_model);"
   ]
  },
  {
   "cell_type": "markdown",
   "metadata": {},
   "source": [
    "## Linear Regression with `numpy.polyfit`"
   ]
  },
  {
   "cell_type": "code",
   "execution_count": 60,
   "metadata": {
    "collapsed": true
   },
   "outputs": [],
   "source": [
    "import numpy"
   ]
  },
  {
   "cell_type": "code",
   "execution_count": 61,
   "metadata": {
    "collapsed": true
   },
   "outputs": [],
   "source": [
    "x, y = load_data()\n",
    "X_data = x\n",
    "Y_data = y"
   ]
  },
  {
   "cell_type": "code",
   "execution_count": 62,
   "metadata": {
    "collapsed": true
   },
   "outputs": [],
   "source": [
    "a1, a0 = numpy.polyfit(x, y, deg=1)"
   ]
  },
  {
   "cell_type": "code",
   "execution_count": 63,
   "metadata": {
    "collapsed": true
   },
   "outputs": [],
   "source": [
    "X_model = X_data\n",
    "Y_model = a0 + a1*X_model"
   ]
  },
  {
   "cell_type": "code",
   "execution_count": 64,
   "metadata": {},
   "outputs": [
    {
     "data": {
      "image/png": "[encoded data removed]",
      "text/plain": [
       "<matplotlib.figure.Figure at 0x1202177f0>"
      ]
     },
     "metadata": {},
     "output_type": "display_data"
    }
   ],
   "source": [
    "plot_data_model(X_data, Y_data, Y_model);"
   ]
  },
  {
   "cell_type": "markdown",
   "metadata": {},
   "source": [
    "## Linear Regression with `numpy.linalg`"
   ]
  },
  {
   "cell_type": "code",
   "execution_count": 65,
   "metadata": {
    "collapsed": true
   },
   "outputs": [],
   "source": [
    "import numpy"
   ]
  },
  {
   "cell_type": "code",
   "execution_count": 66,
   "metadata": {
    "collapsed": true
   },
   "outputs": [],
   "source": [
    "x, y = load_data()\n",
    "X_data = x\n",
    "Y_data = y"
   ]
  },
  {
   "cell_type": "code",
   "execution_count": 67,
   "metadata": {
    "collapsed": true
   },
   "outputs": [],
   "source": [
    "A_data = numpy.vstack([X_data, numpy.ones(len(X_data))]).T\n",
    "\n",
    "a1, a0 = numpy.linalg.lstsq(A_data, Y_data)[0]"
   ]
  },
  {
   "cell_type": "code",
   "execution_count": 68,
   "metadata": {
    "collapsed": true
   },
   "outputs": [],
   "source": [
    "X_model = X_data\n",
    "Y_model = a1*X_data + a0"
   ]
  },
  {
   "cell_type": "code",
   "execution_count": 69,
   "metadata": {
    "scrolled": true
   },
   "outputs": [
    {
     "data": {
      "image/png": "[encoded data removed]",
      "text/plain": [
       "<matplotlib.figure.Figure at 0x120a1b7b8>"
      ]
     },
     "metadata": {},
     "output_type": "display_data"
    }
   ],
   "source": [
    "plot_data_model(X_data, Y_data, Y_model);"
   ]
  },
  {
   "cell_type": "markdown",
   "metadata": {},
   "source": [
    "## Linear Regression with `scipy.stats`"
   ]
  },
  {
   "cell_type": "code",
   "execution_count": 70,
   "metadata": {
    "collapsed": true
   },
   "outputs": [],
   "source": [
    "from scipy import stats"
   ]
  },
  {
   "cell_type": "code",
   "execution_count": 71,
   "metadata": {
    "collapsed": true
   },
   "outputs": [],
   "source": [
    "x, y = load_data()\n",
    "X_data = x\n",
    "Y_data = y"
   ]
  },
  {
   "cell_type": "code",
   "execution_count": 72,
   "metadata": {
    "collapsed": true
   },
   "outputs": [],
   "source": [
    "slope, intercept, r_value, p_value, std_err = stats.linregress(X_data, Y_data)\n",
    "X_model = X_data\n",
    "Y_model = slope*X_data + intercept"
   ]
  },
  {
   "cell_type": "code",
   "execution_count": 73,
   "metadata": {},
   "outputs": [
    {
     "name": "stdout",
     "output_type": "stream",
     "text": [
      "slope = 2.0037452175590196, intercept = -3.990385239590922\n",
      "r_value = 0.9869014780745171, p_value = 2.957120729097286e-80, std_err = 0.03291928654328089\n"
     ]
    }
   ],
   "source": [
    "print(\"slope = {}, intercept = {}\".format(slope, intercept))\n",
    "print(\"r_value = {}, p_value = {}, std_err = {}\".format(r_value, p_value, std_err))"
   ]
  },
  {
   "cell_type": "code",
   "execution_count": 74,
   "metadata": {},
   "outputs": [
    {
     "data": {
      "image/png": "[encoded data removed]",
      "text/plain": [
       "<matplotlib.figure.Figure at 0x120f45ba8>"
      ]
     },
     "metadata": {},
     "output_type": "display_data"
    }
   ],
   "source": [
    "plot_data_model(X_data, Y_data, Y_model);"
   ]
  },
  {
   "cell_type": "markdown",
   "metadata": {},
   "source": [
    "## Linear Regression with `scipy.optimize`"
   ]
  },
  {
   "cell_type": "code",
   "execution_count": 75,
   "metadata": {
    "collapsed": true
   },
   "outputs": [],
   "source": [
    "from scipy import optimize"
   ]
  },
  {
   "cell_type": "code",
   "execution_count": 76,
   "metadata": {
    "collapsed": true
   },
   "outputs": [],
   "source": [
    "x, y = load_data()\n",
    "X_data = x\n",
    "Y_data = y"
   ]
  },
  {
   "cell_type": "code",
   "execution_count": 77,
   "metadata": {
    "collapsed": true
   },
   "outputs": [],
   "source": [
    "def model_func(x, a, b):\n",
    "    return a + (b*x)"
   ]
  },
  {
   "cell_type": "code",
   "execution_count": 78,
   "metadata": {
    "collapsed": true
   },
   "outputs": [],
   "source": [
    "param_opt, param_cov = optimize.curve_fit(model_func, X_data, Y_data)\n",
    "\n",
    "intercept = param_opt[0]  # think a0 as in a0 + a1*x\n",
    "slope     = param_opt[1]  # think a1 as in a0 + a1*x\n",
    "std_err   = numpy.sqrt(numpy.diag(param_cov))"
   ]
  },
  {
   "cell_type": "code",
   "execution_count": 79,
   "metadata": {},
   "outputs": [
    {
     "name": "stdout",
     "output_type": "stream",
     "text": [
      "slope = 1.9884821446421461, intercept = -3.953677554321243\n",
      "covariance = [[ 0.04984209 -0.00743912]\n",
      " [-0.00743912  0.00148782]]\n",
      "std_err = [ 0.22325341  0.03857232]\n"
     ]
    }
   ],
   "source": [
    "print(\"slope = {}, intercept = {}\".format(slope, intercept))\n",
    "print(\"covariance = {}\".format(param_cov))\n",
    "print(\"std_err = {}\".format(std_err))"
   ]
  },
  {
   "cell_type": "code",
   "execution_count": 80,
   "metadata": {
    "collapsed": true
   },
   "outputs": [],
   "source": [
    "Y_model = model_func(X_data, intercept, slope)\n",
    "X_model = X_data"
   ]
  },
  {
   "cell_type": "code",
   "execution_count": 81,
   "metadata": {},
   "outputs": [
    {
     "data": {
      "image/png": "[encoded data removed]",
      "text/plain": [
       "<matplotlib.figure.Figure at 0x121007e10>"
      ]
     },
     "metadata": {},
     "output_type": "display_data"
    }
   ],
   "source": [
    "plot_data_model(X_data, Y_data, Y_model);"
   ]
  },
  {
   "cell_type": "markdown",
   "metadata": {},
   "source": [
    "## Linear Regression with `statsmodels`"
   ]
  },
  {
   "cell_type": "markdown",
   "metadata": {},
   "source": [
    "For more exmaples, see http://www.statsmodels.org/dev/examples/index.html#regression"
   ]
  },
  {
   "cell_type": "code",
   "execution_count": 85,
   "metadata": {},
   "outputs": [],
   "source": [
    "import statsmodels.api as sm"
   ]
  },
  {
   "cell_type": "code",
   "execution_count": 86,
   "metadata": {
    "collapsed": true
   },
   "outputs": [],
   "source": [
    "# Note: statsmodels cannot handle a pandas DataFrame.index object, so convert to integer days\n",
    "\n",
    "# df = load_data()\n",
    "# X_data = (df.index - df.index[0]).days\n",
    "# Y_data = df[col_name]"
   ]
  },
  {
   "cell_type": "code",
   "execution_count": 87,
   "metadata": {
    "collapsed": true
   },
   "outputs": [],
   "source": [
    "x, y = load_data()\n",
    "X_data = x\n",
    "Y_data = y"
   ]
  },
  {
   "cell_type": "code",
   "execution_count": 88,
   "metadata": {
    "collapsed": true
   },
   "outputs": [],
   "source": [
    "X_const   = sm.add_constant(X_data)\n",
    "model     = sm.OLS(Y_data,X_const)\n",
    "model_fit = model.fit()"
   ]
  },
  {
   "cell_type": "code",
   "execution_count": 89,
   "metadata": {},
   "outputs": [
    {
     "name": "stdout",
     "output_type": "stream",
     "text": [
      "slope = 2.0060865025468577, intercept = -3.9766835031126067\n"
     ]
    }
   ],
   "source": [
    "intercept = model_fit.params[0]\n",
    "slope     = model_fit.params[1]\n",
    "print(\"slope = {}, intercept = {}\".format(slope, intercept))"
   ]
  },
  {
   "cell_type": "code",
   "execution_count": 90,
   "metadata": {
    "collapsed": true
   },
   "outputs": [],
   "source": [
    "X_model = X_data\n",
    "Y_model = slope*X_data + intercept"
   ]
  },
  {
   "cell_type": "code",
   "execution_count": 91,
   "metadata": {},
   "outputs": [
    {
     "data": {
      "image/png": "[encoded data removed]",
      "text/plain": [
       "<matplotlib.figure.Figure at 0x1226cffd0>"
      ]
     },
     "metadata": {},
     "output_type": "display_data"
    }
   ],
   "source": [
    "plot_data_model(X_data, Y_data, Y_model);"
   ]
  },
  {
   "cell_type": "code",
   "execution_count": 92,
   "metadata": {},
   "outputs": [
    {
     "data": {
      "text/plain": [
       "array([[ 0.03017321, -0.00450346],\n",
       "       [-0.00450346,  0.00090069]])"
      ]
     },
     "execution_count": 92,
     "metadata": {},
     "output_type": "execute_result"
    }
   ],
   "source": [
    "model_fit.cov_params()"
   ]
  },
  {
   "cell_type": "code",
   "execution_count": 93,
   "metadata": {},
   "outputs": [
    {
     "data": {
      "text/html": [
       "<table class=\"simpletable\">\n",
       "<caption>OLS Regression Results</caption>\n",
       "<tr>\n",
       "  <th>Dep. Variable:</th>            <td>y</td>        <th>  R-squared:         </th> <td>   0.978</td>\n",
       "</tr>\n",
       "<tr>\n",
       "  <th>Model:</th>                   <td>OLS</td>       <th>  Adj. R-squared:    </th> <td>   0.978</td>\n",
       "</tr>\n",
       "<tr>\n",
       "  <th>Method:</th>             <td>Least Squares</td>  <th>  F-statistic:       </th> <td>   4468.</td>\n",
       "</tr>\n",
       "<tr>\n",
       "  <th>Date:</th>             <td>Sat, 05 Aug 2017</td> <th>  Prob (F-statistic):</th> <td>3.46e-84</td>\n",
       "</tr>\n",
       "<tr>\n",
       "  <th>Time:</th>                 <td>09:36:26</td>     <th>  Log-Likelihood:    </th> <td> -129.32</td>\n",
       "</tr>\n",
       "<tr>\n",
       "  <th>No. Observations:</th>      <td>   101</td>      <th>  AIC:               </th> <td>   262.6</td>\n",
       "</tr>\n",
       "<tr>\n",
       "  <th>Df Residuals:</th>          <td>    99</td>      <th>  BIC:               </th> <td>   267.9</td>\n",
       "</tr>\n",
       "<tr>\n",
       "  <th>Df Model:</th>              <td>     1</td>      <th>                     </th>     <td> </td>   \n",
       "</tr>\n",
       "<tr>\n",
       "  <th>Covariance Type:</th>      <td>nonrobust</td>    <th>                     </th>     <td> </td>   \n",
       "</tr>\n",
       "</table>\n",
       "<table class=\"simpletable\">\n",
       "<tr>\n",
       "    <td></td>       <th>coef</th>     <th>std err</th>      <th>t</th>      <th>P>|t|</th>  <th>[0.025</th>    <th>0.975]</th>  \n",
       "</tr>\n",
       "<tr>\n",
       "  <th>const</th> <td>   -3.9767</td> <td>    0.174</td> <td>  -22.893</td> <td> 0.000</td> <td>   -4.321</td> <td>   -3.632</td>\n",
       "</tr>\n",
       "<tr>\n",
       "  <th>x1</th>    <td>    2.0061</td> <td>    0.030</td> <td>   66.844</td> <td> 0.000</td> <td>    1.947</td> <td>    2.066</td>\n",
       "</tr>\n",
       "</table>\n",
       "<table class=\"simpletable\">\n",
       "<tr>\n",
       "  <th>Omnibus:</th>       <td> 0.293</td> <th>  Durbin-Watson:     </th> <td>   1.993</td>\n",
       "</tr>\n",
       "<tr>\n",
       "  <th>Prob(Omnibus):</th> <td> 0.864</td> <th>  Jarque-Bera (JB):  </th> <td>   0.459</td>\n",
       "</tr>\n",
       "<tr>\n",
       "  <th>Skew:</th>          <td> 0.089</td> <th>  Prob(JB):          </th> <td>   0.795</td>\n",
       "</tr>\n",
       "<tr>\n",
       "  <th>Kurtosis:</th>      <td> 2.722</td> <th>  Cond. No.          </th> <td>    11.7</td>\n",
       "</tr>\n",
       "</table>"
      ],
      "text/plain": [
       "<class 'statsmodels.iolib.summary.Summary'>\n",
       "\"\"\"\n",
       "                            OLS Regression Results                            \n",
       "==============================================================================\n",
       "Dep. Variable:                      y   R-squared:                       0.978\n",
       "Model:                            OLS   Adj. R-squared:                  0.978\n",
       "Method:                 Least Squares   F-statistic:                     4468.\n",
       "Date:                Sat, 05 Aug 2017   Prob (F-statistic):           3.46e-84\n",
       "Time:                        09:36:26   Log-Likelihood:                -129.32\n",
       "No. Observations:                 101   AIC:                             262.6\n",
       "Df Residuals:                      99   BIC:                             267.9\n",
       "Df Model:                           1                                         \n",
       "Covariance Type:            nonrobust                                         \n",
       "==============================================================================\n",
       "                 coef    std err          t      P>|t|      [0.025      0.975]\n",
       "------------------------------------------------------------------------------\n",
       "const         -3.9767      0.174    -22.893      0.000      -4.321      -3.632\n",
       "x1             2.0061      0.030     66.844      0.000       1.947       2.066\n",
       "==============================================================================\n",
       "Omnibus:                        0.293   Durbin-Watson:                   1.993\n",
       "Prob(Omnibus):                  0.864   Jarque-Bera (JB):                0.459\n",
       "Skew:                           0.089   Prob(JB):                        0.795\n",
       "Kurtosis:                       2.722   Cond. No.                         11.7\n",
       "==============================================================================\n",
       "\n",
       "Warnings:\n",
       "[1] Standard Errors assume that the covariance matrix of the errors is correctly specified.\n",
       "\"\"\""
      ]
     },
     "execution_count": 93,
     "metadata": {},
     "output_type": "execute_result"
    }
   ],
   "source": [
    "model_fit.summary()"
   ]
  },
  {
   "cell_type": "markdown",
   "metadata": {},
   "source": [
    "## Linear Regression with `statsmodels.formula` and `pandas`"
   ]
  },
  {
   "cell_type": "markdown",
   "metadata": {},
   "source": [
    "For more exmaples, see http://www.statsmodels.org/dev/examples/index.html#regression"
   ]
  },
  {
   "cell_type": "code",
   "execution_count": 94,
   "metadata": {
    "collapsed": true
   },
   "outputs": [],
   "source": [
    "import statsmodels.formula.api as smf\n",
    "import pandas"
   ]
  },
  {
   "cell_type": "code",
   "execution_count": 95,
   "metadata": {
    "collapsed": true
   },
   "outputs": [],
   "source": [
    "x, y = load_data()\n",
    "X_data = x\n",
    "Y_data = y\n",
    "df = pandas.DataFrame(dict(x=X_data, y=Y_data))"
   ]
  },
  {
   "cell_type": "code",
   "execution_count": 96,
   "metadata": {
    "collapsed": true
   },
   "outputs": [],
   "source": [
    "model = smf.ols(formula=\"y ~ x\", data=df).fit()"
   ]
  },
  {
   "cell_type": "code",
   "execution_count": 97,
   "metadata": {
    "collapsed": true
   },
   "outputs": [],
   "source": [
    "Y_model = model.predict(df)\n",
    "X_model = X_data"
   ]
  },
  {
   "cell_type": "code",
   "execution_count": 98,
   "metadata": {},
   "outputs": [
    {
     "data": {
      "image/png": "[encoded data removed]",
      "text/plain": [
       "<matplotlib.figure.Figure at 0x1227aaba8>"
      ]
     },
     "metadata": {},
     "output_type": "display_data"
    }
   ],
   "source": [
    "plot_data_model(df.x, Y_data, Y_model);"
   ]
  },
  {
   "cell_type": "code",
   "execution_count": 99,
   "metadata": {},
   "outputs": [
    {
     "data": {
      "text/html": [
       "<table class=\"simpletable\">\n",
       "<caption>OLS Regression Results</caption>\n",
       "<tr>\n",
       "  <th>Dep. Variable:</th>            <td>y</td>        <th>  R-squared:         </th> <td>   0.975</td>\n",
       "</tr>\n",
       "<tr>\n",
       "  <th>Model:</th>                   <td>OLS</td>       <th>  Adj. R-squared:    </th> <td>   0.975</td>\n",
       "</tr>\n",
       "<tr>\n",
       "  <th>Method:</th>             <td>Least Squares</td>  <th>  F-statistic:       </th> <td>   3933.</td>\n",
       "</tr>\n",
       "<tr>\n",
       "  <th>Date:</th>             <td>Sat, 05 Aug 2017</td> <th>  Prob (F-statistic):</th> <td>1.65e-81</td>\n",
       "</tr>\n",
       "<tr>\n",
       "  <th>Time:</th>                 <td>09:36:34</td>     <th>  Log-Likelihood:    </th> <td> -132.70</td>\n",
       "</tr>\n",
       "<tr>\n",
       "  <th>No. Observations:</th>      <td>   101</td>      <th>  AIC:               </th> <td>   269.4</td>\n",
       "</tr>\n",
       "<tr>\n",
       "  <th>Df Residuals:</th>          <td>    99</td>      <th>  BIC:               </th> <td>   274.6</td>\n",
       "</tr>\n",
       "<tr>\n",
       "  <th>Df Model:</th>              <td>     1</td>      <th>                     </th>     <td> </td>   \n",
       "</tr>\n",
       "<tr>\n",
       "  <th>Covariance Type:</th>      <td>nonrobust</td>    <th>                     </th>     <td> </td>   \n",
       "</tr>\n",
       "</table>\n",
       "<table class=\"simpletable\">\n",
       "<tr>\n",
       "      <td></td>         <th>coef</th>     <th>std err</th>      <th>t</th>      <th>P>|t|</th>  <th>[0.025</th>    <th>0.975]</th>  \n",
       "</tr>\n",
       "<tr>\n",
       "  <th>Intercept</th> <td>   -3.7883</td> <td>    0.180</td> <td>  -21.090</td> <td> 0.000</td> <td>   -4.145</td> <td>   -3.432</td>\n",
       "</tr>\n",
       "<tr>\n",
       "  <th>x</th>         <td>    1.9464</td> <td>    0.031</td> <td>   62.716</td> <td> 0.000</td> <td>    1.885</td> <td>    2.008</td>\n",
       "</tr>\n",
       "</table>\n",
       "<table class=\"simpletable\">\n",
       "<tr>\n",
       "  <th>Omnibus:</th>       <td> 3.591</td> <th>  Durbin-Watson:     </th> <td>   1.970</td>\n",
       "</tr>\n",
       "<tr>\n",
       "  <th>Prob(Omnibus):</th> <td> 0.166</td> <th>  Jarque-Bera (JB):  </th> <td>   2.515</td>\n",
       "</tr>\n",
       "<tr>\n",
       "  <th>Skew:</th>          <td>-0.217</td> <th>  Prob(JB):          </th> <td>   0.284</td>\n",
       "</tr>\n",
       "<tr>\n",
       "  <th>Kurtosis:</th>      <td> 2.360</td> <th>  Cond. No.          </th> <td>    11.7</td>\n",
       "</tr>\n",
       "</table>"
      ],
      "text/plain": [
       "<class 'statsmodels.iolib.summary.Summary'>\n",
       "\"\"\"\n",
       "                            OLS Regression Results                            \n",
       "==============================================================================\n",
       "Dep. Variable:                      y   R-squared:                       0.975\n",
       "Model:                            OLS   Adj. R-squared:                  0.975\n",
       "Method:                 Least Squares   F-statistic:                     3933.\n",
       "Date:                Sat, 05 Aug 2017   Prob (F-statistic):           1.65e-81\n",
       "Time:                        09:36:34   Log-Likelihood:                -132.70\n",
       "No. Observations:                 101   AIC:                             269.4\n",
       "Df Residuals:                      99   BIC:                             274.6\n",
       "Df Model:                           1                                         \n",
       "Covariance Type:            nonrobust                                         \n",
       "==============================================================================\n",
       "                 coef    std err          t      P>|t|      [0.025      0.975]\n",
       "------------------------------------------------------------------------------\n",
       "Intercept     -3.7883      0.180    -21.090      0.000      -4.145      -3.432\n",
       "x              1.9464      0.031     62.716      0.000       1.885       2.008\n",
       "==============================================================================\n",
       "Omnibus:                        3.591   Durbin-Watson:                   1.970\n",
       "Prob(Omnibus):                  0.166   Jarque-Bera (JB):                2.515\n",
       "Skew:                          -0.217   Prob(JB):                        0.284\n",
       "Kurtosis:                       2.360   Cond. No.                         11.7\n",
       "==============================================================================\n",
       "\n",
       "Warnings:\n",
       "[1] Standard Errors assume that the covariance matrix of the errors is correctly specified.\n",
       "\"\"\""
      ]
     },
     "execution_count": 99,
     "metadata": {},
     "output_type": "execute_result"
    }
   ],
   "source": [
    "model.summary()"
   ]
  },
  {
   "cell_type": "markdown",
   "metadata": {},
   "source": [
    "## Linear Regression with `scikit-learn`"
   ]
  },
  {
   "cell_type": "code",
   "execution_count": 100,
   "metadata": {
    "collapsed": true
   },
   "outputs": [],
   "source": [
    "from sklearn.linear_model import LinearRegression"
   ]
  },
  {
   "cell_type": "code",
   "execution_count": 101,
   "metadata": {
    "collapsed": true
   },
   "outputs": [],
   "source": [
    "x, y = load_data()\n",
    "X_data = x\n",
    "Y_data = y"
   ]
  },
  {
   "cell_type": "code",
   "execution_count": 102,
   "metadata": {
    "collapsed": true
   },
   "outputs": [],
   "source": [
    "# Practice working with DataFrames and forcing the reshape needed for sklearn\n",
    "df = pandas.DataFrame(dict(x=X_data, y=Y_data))\n",
    "X_data = df.x.values.reshape(len(df.y),1)\n",
    "Y_data = df.y.values.reshape(len(df.y),1)"
   ]
  },
  {
   "cell_type": "code",
   "execution_count": 103,
   "metadata": {
    "collapsed": true
   },
   "outputs": [],
   "source": [
    "model = LinearRegression(fit_intercept=True)\n",
    "model.fit(X_data, Y_data)\n",
    "Y_model = model.predict(X_data)"
   ]
  },
  {
   "cell_type": "code",
   "execution_count": 104,
   "metadata": {},
   "outputs": [
    {
     "data": {
      "image/png": "[encoded data removed]",
      "text/plain": [
       "<matplotlib.figure.Figure at 0x1227aab00>"
      ]
     },
     "metadata": {},
     "output_type": "display_data"
    }
   ],
   "source": [
    "plot_data_model(df.index, Y_data, Y_model);"
   ]
  },
  {
   "cell_type": "code",
   "execution_count": 105,
   "metadata": {},
   "outputs": [
    {
     "data": {
      "text/plain": [
       "array([[ 1.95193975]])"
      ]
     },
     "execution_count": 105,
     "metadata": {},
     "output_type": "execute_result"
    }
   ],
   "source": [
    "model.coef_"
   ]
  },
  {
   "cell_type": "code",
   "execution_count": 106,
   "metadata": {},
   "outputs": [
    {
     "data": {
      "text/plain": [
       "array([-3.7750762])"
      ]
     },
     "execution_count": 106,
     "metadata": {},
     "output_type": "execute_result"
    }
   ],
   "source": [
    "model.intercept_"
   ]
  },
  {
   "cell_type": "markdown",
   "metadata": {},
   "source": [
    "## Linear Regression with Tensor Flow, gradient descent"
   ]
  },
  {
   "cell_type": "markdown",
   "metadata": {},
   "source": [
    "Thanks to a friend at TACC: https://github.com/jchuahtacc/MachineLearningRegression"
   ]
  },
  {
   "cell_type": "code",
   "execution_count": 107,
   "metadata": {
    "collapsed": true
   },
   "outputs": [],
   "source": [
    "# !conda install tensorflow -y"
   ]
  },
  {
   "cell_type": "code",
   "execution_count": 108,
   "metadata": {
    "collapsed": true
   },
   "outputs": [],
   "source": [
    "import tensorflow as tf"
   ]
  },
  {
   "cell_type": "code",
   "execution_count": 109,
   "metadata": {
    "collapsed": true
   },
   "outputs": [],
   "source": [
    "# Initial guesses for values of fit parameters\n",
    "W = tf.Variable([+0.25])\n",
    "b = tf.Variable([-0.25])\n",
    "\n",
    "# Prealocate memory for regression solution\n",
    "x = tf.placeholder(tf.float32)\n",
    "y = tf.placeholder(tf.float32)"
   ]
  },
  {
   "cell_type": "code",
   "execution_count": 110,
   "metadata": {
    "collapsed": true
   },
   "outputs": [],
   "source": [
    "model = W*x + b\n",
    "loss = tf.reduce_sum(tf.square(model - y))"
   ]
  },
  {
   "cell_type": "code",
   "execution_count": 111,
   "metadata": {
    "collapsed": true
   },
   "outputs": [],
   "source": [
    "optimizer = tf.train.GradientDescentOptimizer(0.0001).minimize(loss)"
   ]
  },
  {
   "cell_type": "code",
   "execution_count": 112,
   "metadata": {},
   "outputs": [
    {
     "name": "stdout",
     "output_type": "stream",
     "text": [
      "Cheating time: 0.0007901191711425781\n",
      "Actual loss: 28.4249201737\n",
      "Actual W: 2.02742074185\n",
      "Actual b: -4.18686241762\n"
     ]
    }
   ],
   "source": [
    "import numpy as np\n",
    "import time\n",
    "\n",
    "cheat_W = 2\n",
    "cheat_b = -4\n",
    "\n",
    "starting_value = 2\n",
    "ending_value = 8\n",
    "num_values = 100\n",
    "\n",
    "def make_vals(starting_value, ending_value, num_values):\n",
    "    # Let's make a bunch of x values\n",
    "    x_vals = np.linspace(starting_value, ending_value, num_values)\n",
    "    # Let's make a bunch of y values close to our equation, but randomly off by a small amount\n",
    "    noise = np.random.uniform(-1, 1, num_values)\n",
    "    target_loss = np.sum(np.square(noise))\n",
    "    y_vals = cheat_W * x_vals + cheat_b + noise\n",
    "    return x_vals, y_vals, abs(target_loss)\n",
    "\n",
    "x_vals, y_vals, actual_loss = make_vals(starting_value, ending_value, num_values)\n",
    "\n",
    "# Let's cheat again, and use numpy's built in linear regression\n",
    "start = time.time()\n",
    "actual_W, actual_b = np.linalg.lstsq(np.vstack([x_vals, np.ones(len(x_vals))]).T, y_vals)[0]\n",
    "print(\"Cheating time:\", time.time() - start) \n",
    "\n",
    "print(\"Actual loss:\", actual_loss) \n",
    "print(\"Actual W:\", actual_W) \n",
    "print(\"Actual b:\", actual_b) "
   ]
  },
  {
   "cell_type": "code",
   "execution_count": 113,
   "metadata": {
    "scrolled": true
   },
   "outputs": [
    {
     "name": "stdout",
     "output_type": "stream",
     "text": [
      "Execution time: 2.992849826812744\n",
      "Actual regression: y =  2.02742074185  * x + -4.18686241762\n",
      "Actual loss:  28.4249201737\n",
      "Final regression: y = 2.02726  * x + -4.18599\n",
      "Final loss: 27.9472\n"
     ]
    }
   ],
   "source": [
    "# Try changing the steps\n",
    "steps = 4000\n",
    "\n",
    "losses = steps * [ 0.0 ]\n",
    "Ws = steps * [ 0.0 ]\n",
    "bs = steps * [ 0.0 ]\n",
    "\n",
    "\n",
    "def measure_time(algorithm, steps):\n",
    "    start = time.time()\n",
    "    algorithm(steps)\n",
    "    return time.time() - start\n",
    "\n",
    "\n",
    "def gradient_regression(epochs):\n",
    "    from random import shuffle\n",
    "    \n",
    "    # import all our global variables and data\n",
    "    global losses\n",
    "    global Ws\n",
    "    global bs\n",
    "    global x_vals\n",
    "    global y_vals\n",
    "    \n",
    "    # machine learning works better with random ordering\n",
    "    coords = list( zip( x_vals, y_vals) )\n",
    "    shuffle(coords)\n",
    "    x_list, y_list = zip(*coords)\n",
    "    \n",
    "    # Start a tensorflow session\n",
    "    session = tf.Session()\n",
    "    session.run(tf.global_variables_initializer())\n",
    "    \n",
    "    # Create a data set to fit\n",
    "    data = { x : x_list, y: y_list }\n",
    "    \n",
    "    # Run a bunch of epochs\n",
    "    for i in range(epochs):\n",
    "        # Run one generation and capture a snapshot of it\n",
    "        _, output_loss, output_W, output_b = session.run([optimizer, loss, W, b], feed_dict=data)\n",
    "        losses[i] = output_loss\n",
    "        Ws[i] = output_W[0]\n",
    "        bs[i] = output_b[0]\n",
    "\n",
    "\n",
    "execution_time = measure_time(gradient_regression, steps)\n",
    "\n",
    "print(\"Execution time:\", execution_time) \n",
    "print(\"Actual regression: y = \", actual_W, \" * x +\", actual_b) \n",
    "print(\"Actual loss: \", actual_loss) \n",
    "print(\"Final regression: y =\", Ws[steps - 1], \" * x +\", bs[steps - 1]) \n",
    "print(\"Final loss:\", losses[steps - 1]) "
   ]
  },
  {
   "cell_type": "markdown",
   "metadata": {},
   "source": [
    "## Linear Regression with TensorFlow, machine learning"
   ]
  },
  {
   "cell_type": "markdown",
   "metadata": {},
   "source": [
    "https://github.com/aymericdamien/TensorFlow-Examples/blob/master/examples/2_BasicModels/linear_regression.py"
   ]
  },
  {
   "cell_type": "code",
   "execution_count": 114,
   "metadata": {},
   "outputs": [
    {
     "name": "stdout",
     "output_type": "stream",
     "text": [
      "Epoch: 0050 cost= 0.137969106 W= 0.387731 b= -0.192283\n",
      "Epoch: 0100 cost= 0.130919918 W= 0.379515 b= -0.13318\n",
      "Epoch: 0150 cost= 0.124684989 W= 0.371788 b= -0.0775917\n",
      "Epoch: 0200 cost= 0.119170301 W= 0.364521 b= -0.0253099\n",
      "Epoch: 0250 cost= 0.114292666 W= 0.357685 b= 0.0238624\n",
      "Epoch: 0300 cost= 0.109978527 W= 0.351257 b= 0.0701103\n",
      "Epoch: 0350 cost= 0.106162846 W= 0.34521 b= 0.113608\n",
      "Epoch: 0400 cost= 0.102788046 W= 0.339523 b= 0.154518\n",
      "Epoch: 0450 cost= 0.099803217 W= 0.334175 b= 0.192995\n",
      "Epoch: 0500 cost= 0.097163320 W= 0.329144 b= 0.229184\n",
      "Epoch: 0550 cost= 0.094828516 W= 0.324413 b= 0.26322\n",
      "Epoch: 0600 cost= 0.092763588 W= 0.319963 b= 0.295232\n",
      "Epoch: 0650 cost= 0.090937324 W= 0.315778 b= 0.32534\n",
      "Epoch: 0700 cost= 0.089322224 W= 0.311842 b= 0.353657\n",
      "Epoch: 0750 cost= 0.087893814 W= 0.30814 b= 0.380291\n",
      "Epoch: 0800 cost= 0.086630590 W= 0.304657 b= 0.40534\n",
      "Epoch: 0850 cost= 0.085513435 W= 0.301383 b= 0.4289\n",
      "Epoch: 0900 cost= 0.084525503 W= 0.298303 b= 0.451058\n",
      "Epoch: 0950 cost= 0.083651818 W= 0.295406 b= 0.471899\n",
      "Epoch: 1000 cost= 0.082879245 W= 0.292681 b= 0.4915\n",
      "Optimization Finished!\n",
      "Training cost= 0.0828792 W= 0.292681 b= 0.4915 \n",
      "\n"
     ]
    },
    {
     "data": {
      "image/png": "[encoded data removed]",
      "text/plain": [
       "<matplotlib.figure.Figure at 0x129456ac8>"
      ]
     },
     "metadata": {},
     "output_type": "display_data"
    },
    {
     "name": "stdout",
     "output_type": "stream",
     "text": [
      "Testing... (Mean square loss Comparison)\n",
      "Testing cost= 0.0771208\n",
      "Absolute mean square loss difference: 0.0057584\n"
     ]
    },
    {
     "data": {
      "image/png": "[encoded data removed]",
      "text/plain": [
       "<matplotlib.figure.Figure at 0x122954ba8>"
      ]
     },
     "metadata": {},
     "output_type": "display_data"
    }
   ],
   "source": [
    "from __future__ import print_function\n",
    "\n",
    "import tensorflow as tf\n",
    "import numpy\n",
    "import matplotlib.pyplot as plt\n",
    "rng = numpy.random\n",
    "\n",
    "# Parameters\n",
    "learning_rate = 0.01\n",
    "training_epochs = 1000\n",
    "display_step = 50\n",
    "\n",
    "# Training Data\n",
    "train_X = numpy.asarray([3.3,4.4,5.5,6.71,6.93,4.168,9.779,6.182,7.59,2.167,\n",
    "                         7.042,10.791,5.313,7.997,5.654,9.27,3.1])\n",
    "train_Y = numpy.asarray([1.7,2.76,2.09,3.19,1.694,1.573,3.366,2.596,2.53,1.221,\n",
    "                         2.827,3.465,1.65,2.904,2.42,2.94,1.3])\n",
    "n_samples = train_X.shape[0]\n",
    "\n",
    "# tf Graph Input\n",
    "X = tf.placeholder(\"float\")\n",
    "Y = tf.placeholder(\"float\")\n",
    "\n",
    "# Set model weights\n",
    "W = tf.Variable(rng.randn(), name=\"weight\")\n",
    "b = tf.Variable(rng.randn(), name=\"bias\")\n",
    "\n",
    "# Construct a linear model\n",
    "pred = tf.add(tf.multiply(X, W), b)\n",
    "\n",
    "# Mean squared error\n",
    "cost = tf.reduce_sum(tf.pow(pred-Y, 2))/(2*n_samples)\n",
    "# Gradient descent\n",
    "#  Note, minimize() knows to modify W and b because Variable objects are trainable=True by default\n",
    "optimizer = tf.train.GradientDescentOptimizer(learning_rate).minimize(cost)\n",
    "\n",
    "# Initializing the variables\n",
    "init = tf.global_variables_initializer()\n",
    "\n",
    "# Launch the graph\n",
    "with tf.Session() as sess:\n",
    "    sess.run(init)\n",
    "\n",
    "    # Fit all training data\n",
    "    for epoch in range(training_epochs):\n",
    "        for (x, y) in zip(train_X, train_Y):\n",
    "            sess.run(optimizer, feed_dict={X: x, Y: y})\n",
    "\n",
    "        # Display logs per epoch step\n",
    "        if (epoch+1) % display_step == 0:\n",
    "            c = sess.run(cost, feed_dict={X: train_X, Y:train_Y})\n",
    "            print(\"Epoch:\", '%04d' % (epoch+1), \"cost=\", \"{:.9f}\".format(c), \\\n",
    "                \"W=\", sess.run(W), \"b=\", sess.run(b))\n",
    "\n",
    "    print(\"Optimization Finished!\")\n",
    "    training_cost = sess.run(cost, feed_dict={X: train_X, Y: train_Y})\n",
    "    print(\"Training cost=\", training_cost, \"W=\", sess.run(W), \"b=\", sess.run(b), '\\n')\n",
    "\n",
    "    # Graphic display\n",
    "    plt.plot(train_X, train_Y, 'ro', label='Original data')\n",
    "    plt.plot(train_X, sess.run(W) * train_X + sess.run(b), label='Fitted line')\n",
    "    plt.legend()\n",
    "    plt.show()\n",
    "\n",
    "    # Testing example, as requested (Issue #2)\n",
    "    test_X = numpy.asarray([6.83, 4.668, 8.9, 7.91, 5.7, 8.7, 3.1, 2.1])\n",
    "    test_Y = numpy.asarray([1.84, 2.273, 3.2, 2.831, 2.92, 3.24, 1.35, 1.03])\n",
    "\n",
    "    print(\"Testing... (Mean square loss Comparison)\")\n",
    "    testing_cost = sess.run(\n",
    "        tf.reduce_sum(tf.pow(pred - Y, 2)) / (2 * test_X.shape[0]),\n",
    "        feed_dict={X: test_X, Y: test_Y})  # same function as cost above\n",
    "    print(\"Testing cost=\", testing_cost)\n",
    "    print(\"Absolute mean square loss difference:\", abs(\n",
    "        training_cost - testing_cost))\n",
    "\n",
    "    plt.plot(test_X, test_Y, 'bo', label='Testing data')\n",
    "    plt.plot(train_X, sess.run(W) * train_X + sess.run(b), label='Fitted line')\n",
    "    plt.legend()\n",
    "    plt.show()"
   ]
  },
  {
   "cell_type": "markdown",
   "metadata": {},
   "source": [
    "# Conclusion"
   ]
  },
  {
   "cell_type": "markdown",
   "metadata": {},
   "source": []
  }
 ],
 "metadata": {
  "kernelspec": {
   "display_name": "Python 3",
   "language": "python",
   "name": "python3"
  },
  "language_info": {
   "codemirror_mode": {
    "name": "ipython",
    "version": 3
   },
   "file_extension": ".py",
   "mimetype": "text/x-python",
   "name": "python",
   "nbconvert_exporter": "python",
   "pygments_lexer": "ipython3",
   "version": "3.6.1"
  }
 },
 "nbformat": 4,
 "nbformat_minor": 2
}
